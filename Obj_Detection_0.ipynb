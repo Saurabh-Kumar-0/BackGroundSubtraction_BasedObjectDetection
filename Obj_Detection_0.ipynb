{
 "cells": [
  {
   "cell_type": "code",
   "execution_count": 1,
   "metadata": {},
   "outputs": [],
   "source": [
    "import cv2\n",
    "import numpy as np\n",
    "\n",
    "class ObjectDetection:\n",
    "    def __init__(self, source=0):\n",
    "        self.cap = cv2.VideoCapture(source)\n",
    "        self.bg_subtractor = cv2.createBackgroundSubtractorMOG2()\n",
    "    \n",
    "    def process_frames(self):\n",
    "        while self.cap.isOpened():\n",
    "            ret, frame = self.cap.read()\n",
    "            if not ret:\n",
    "                break\n",
    "            \n",
    "            # Convert frame to grayscale (optional, for better processing)\n",
    "            gray = cv2.cvtColor(frame, cv2.COLOR_BGR2GRAY)\n",
    "            \n",
    "            # Apply background subtraction\n",
    "            fg_mask = self.bg_subtractor.apply(gray)\n",
    "            \n",
    "            # Find contours (moving objects)\n",
    "            contours, _ = cv2.findContours(fg_mask, cv2.RETR_EXTERNAL, cv2.CHAIN_APPROX_SIMPLE)\n",
    "            \n",
    "            for contour in contours:\n",
    "                if cv2.contourArea(contour) > 500:  # Filter small areas\n",
    "                    x, y, w, h = cv2.boundingRect(contour)\n",
    "                    cv2.rectangle(frame, (x, y), (x + w, y + h), (0, 255, 0), 2)\n",
    "            \n",
    "            # Display results\n",
    "            cv2.imshow(\"Object Detection\", frame)\n",
    "            \n",
    "            if cv2.waitKey(30) & 0xFF == 27:  # Press 'Esc' to exit\n",
    "                break\n",
    "        \n",
    "        self.cap.release()\n",
    "        cv2.destroyAllWindows()\n",
    "\n",
    "# Run the object detection\n",
    "if __name__ == \"__main__\":\n",
    "    detector = ObjectDetection(source=0)  # Change source to video file path if needed\n",
    "    detector.process_frames()"
   ]
  }
 ],
 "metadata": {
  "kernelspec": {
   "display_name": "Python 3",
   "language": "python",
   "name": "python3"
  },
  "language_info": {
   "codemirror_mode": {
    "name": "ipython",
    "version": 3
   },
   "file_extension": ".py",
   "mimetype": "text/x-python",
   "name": "python",
   "nbconvert_exporter": "python",
   "pygments_lexer": "ipython3",
   "version": "3.11.0"
  }
 },
 "nbformat": 4,
 "nbformat_minor": 2
}
