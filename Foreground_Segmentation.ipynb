{
 "cells": [
  {
   "cell_type": "markdown",
   "metadata": {},
   "source": [
    "## 1. Background Modeling\n",
    "These methods estimate the background and detect deviations as foreground."
   ]
  },
  {
   "cell_type": "markdown",
   "metadata": {},
   "source": [
    "### 1.1 Gaussian Mixture Models (GMM) – OpenCV Implementation\n",
    "- Concept: Models each pixel as a mixture of multiple Gaussians.\n",
    "- Best For: Dynamic backgrounds with periodic changes (e.g., water, trees)."
   ]
  },
  {
   "cell_type": "code",
   "execution_count": 1,
   "metadata": {},
   "outputs": [],
   "source": [
    "import cv2\n",
    "\n",
    "# Load video\n",
    "cap = cv2.VideoCapture(\"ChangeDetectionDataset\\MyDownloads\\Road_Video.mp4\")\n",
    "\n",
    "# Initialize Background Subtractor using GMM\n",
    "bg_subtractor = cv2.createBackgroundSubtractorMOG2(history=500, varThreshold=16, detectShadows=True)\n",
    "\n",
    "while cap.isOpened():\n",
    "    ret, frame = cap.read()\n",
    "    if not ret:\n",
    "        break\n",
    "\n",
    "    # Apply background subtraction\n",
    "    fg_mask = bg_subtractor.apply(frame)\n",
    "\n",
    "    # Display result\n",
    "    cv2.imshow(\"Foreground Mask (GMM)\", fg_mask)\n",
    "\n",
    "    if cv2.waitKey(30) & 0xFF == 27:\n",
    "        break\n",
    "\n",
    "cap.release()\n",
    "cv2.destroyAllWindows()"
   ]
  },
  {
   "cell_type": "markdown",
   "metadata": {},
   "source": [
    "### 1.2 Kernel Density Estimation (KDE)\n",
    "- Concept: Uses non-parametric density estimation to model background.\n",
    "- Best For: Non-Gaussian backgrounds with complex patterns."
   ]
  },
  {
   "cell_type": "code",
   "execution_count": 3,
   "metadata": {},
   "outputs": [],
   "source": [
    "# import numpy as np\n",
    "# from sklearn.neighbors import KernelDensity\n",
    "# import cv2\n",
    "\n",
    "# # Load background image\n",
    "# background = cv2.imread(r\"frames\\frame_0004.jpg\", 0)  # Grayscale\n",
    "\n",
    "# # Convert to 1D array for KDE\n",
    "# background_data = background.flatten().reshape(-1, 1)\n",
    "\n",
    "# # Fit KDE model\n",
    "# kde = KernelDensity(kernel=\"gaussian\", bandwidth=5).fit(background_data)\n",
    "\n",
    "# # Load a new frame\n",
    "# frame = cv2.imread(r\"frames\\frame_0187.jpg\", 0)\n",
    "\n",
    "# # Compute likelihood\n",
    "# frame_data = frame.flatten().reshape(-1, 1)\n",
    "# likelihood = kde.score_samples(frame_data)\n",
    "\n",
    "# # Reshape and threshold\n",
    "# likelihood = likelihood.reshape(frame.shape)\n",
    "# fg_mask = (likelihood < np.percentile(likelihood, 5)).astype(np.uint8) * 255\n",
    "\n",
    "# cv2.imshow(\"Foreground Mask (KDE)\", fg_mask)\n",
    "# cv2.waitKey(0)\n",
    "# cv2.destroyAllWindows()"
   ]
  },
  {
   "cell_type": "markdown",
   "metadata": {},
   "source": [
    "### 1.3 ViBe (Visual Background Extractor)\n",
    "- Concept: Maintains a background model using pixel-level samples.\n",
    "- Best For: Robust real-time background subtraction."
   ]
  },
  {
   "cell_type": "code",
   "execution_count": 4,
   "metadata": {},
   "outputs": [],
   "source": [
    "#Separate Implementation later"
   ]
  },
  {
   "cell_type": "markdown",
   "metadata": {},
   "source": [
    "## 2. Frame Differencing\n",
    "A simple method that computes the absolute difference between consecutive frames."
   ]
  },
  {
   "cell_type": "code",
   "execution_count": 2,
   "metadata": {},
   "outputs": [],
   "source": [
    "cap = cv2.VideoCapture(\"ChangeDetectionDataset\\MyDownloads\\Road_Video.mp4\")\n",
    "\n",
    "ret, frame1 = cap.read()\n",
    "frame1_gray = cv2.cvtColor(frame1, cv2.COLOR_BGR2GRAY)\n",
    "\n",
    "while cap.isOpened():\n",
    "    ret, frame2 = cap.read()\n",
    "    if not ret:\n",
    "        break\n",
    "\n",
    "    frame2_gray = cv2.cvtColor(frame2, cv2.COLOR_BGR2GRAY)\n",
    "\n",
    "    # Compute difference\n",
    "    diff = cv2.absdiff(frame1_gray, frame2_gray)\n",
    "\n",
    "    # Apply threshold\n",
    "    _, fg_mask = cv2.threshold(diff, 25, 255, cv2.THRESH_BINARY)\n",
    "\n",
    "    cv2.imshow(\"Foreground Mask (Frame Differencing)\", fg_mask)\n",
    "\n",
    "    frame1_gray = frame2_gray  # Update reference frame\n",
    "\n",
    "    if cv2.waitKey(30) & 0xFF == 27:\n",
    "        break\n",
    "\n",
    "cap.release()\n",
    "cv2.destroyAllWindows()"
   ]
  },
  {
   "cell_type": "markdown",
   "metadata": {},
   "source": [
    "## 3. Optical Flow-Based Methods"
   ]
  },
  {
   "cell_type": "markdown",
   "metadata": {},
   "source": [
    "### 3.1 Dense Optical Flow (Farneback)\n",
    "- Concept: Computes pixel-wise motion between frames.\n",
    "- Best For: Detecting continuous motion in videos."
   ]
  },
  {
   "cell_type": "code",
   "execution_count": 6,
   "metadata": {},
   "outputs": [],
   "source": [
    "import numpy as np\n",
    "cap = cv2.VideoCapture(\"ChangeDetectionDataset\\MyDownloads\\Road_Video.mp4\")\n",
    "\n",
    "ret, frame1 = cap.read()\n",
    "prvs = cv2.cvtColor(frame1, cv2.COLOR_BGR2GRAY)\n",
    "\n",
    "hsv = np.zeros_like(frame1)\n",
    "hsv[..., 1] = 255  # Set saturation to maximum\n",
    "\n",
    "while cap.isOpened():\n",
    "    ret, frame2 = cap.read()\n",
    "    if not ret:\n",
    "        break\n",
    "\n",
    "    next = cv2.cvtColor(frame2, cv2.COLOR_BGR2GRAY)\n",
    "    \n",
    "    # Compute optical flow\n",
    "    flow = cv2.calcOpticalFlowFarneback(prvs, next, None, 0.5, 3, 15, 3, 5, 1.2, 0)\n",
    "\n",
    "    mag, ang = cv2.cartToPolar(flow[..., 0], flow[..., 1])\n",
    "    hsv[..., 0] = ang * 180 / np.pi / 2  # Hue represents motion direction\n",
    "    hsv[..., 2] = cv2.normalize(mag, None, 0, 255, cv2.NORM_MINMAX)  # Value represents motion intensity\n",
    "\n",
    "    flow_visual = cv2.cvtColor(hsv, cv2.COLOR_HSV2BGR)\n",
    "\n",
    "    cv2.imshow(\"Optical Flow (Farneback)\", flow_visual)\n",
    "\n",
    "    prvs = next\n",
    "\n",
    "    if cv2.waitKey(30) & 0xFF == 27:\n",
    "        break\n",
    "\n",
    "cap.release()\n",
    "cv2.destroyAllWindows()"
   ]
  },
  {
   "cell_type": "markdown",
   "metadata": {},
   "source": [
    "## 4. Deep Learning-Based Background Subtraction\n",
    "### FgSegNet (Foreground Segmentation Network)\n",
    "- Concept: Uses deep learning to segment the moving objects from the background.\n",
    "- Best For: Complex scenes where traditional methods fail."
   ]
  },
  {
   "cell_type": "markdown",
   "metadata": {},
   "source": [
    "## 5. Statistical Change Detection\n",
    "### 5.1 Chi-Square Test for Pixel Distribution Change\n",
    "- Concept: Compares pixel distributions in a region to detect significant changes.\n",
    "- Best For: Statistically robust change detection."
   ]
  },
  {
   "cell_type": "code",
   "execution_count": 11,
   "metadata": {},
   "outputs": [
    {
     "name": "stdout",
     "output_type": "stream",
     "text": [
      "Chi-Square Value: 302.5934641898606, p-value: 0.02179025040440417\n",
      "Significant Change Detected!\n"
     ]
    }
   ],
   "source": [
    "import numpy as np\n",
    "import cv2\n",
    "from scipy.stats import chi2_contingency\n",
    "\n",
    "# Load images (grayscale)\n",
    "frame1 = cv2.imread(r\"frames\\frame_0194.jpg\", cv2.IMREAD_GRAYSCALE)\n",
    "frame2 = cv2.imread(r\"frames\\frame_0196.jpg\", cv2.IMREAD_GRAYSCALE)\n",
    "\n",
    "# Compute histograms\n",
    "hist1, _ = np.histogram(frame1, bins=256, range=(0, 256))\n",
    "hist2, _ = np.histogram(frame2, bins=256, range=(0, 256))\n",
    "\n",
    "# Avoid zero-bin issue by adding a small value (Laplace smoothing)\n",
    "hist1 += 1\n",
    "hist2 += 1\n",
    "\n",
    "# Perform Chi-square test\n",
    "chi2, p, _, _ = chi2_contingency([hist1, hist2])\n",
    "\n",
    "print(f\"Chi-Square Value: {chi2}, p-value: {p}\")\n",
    "\n",
    "if p < 0.05:\n",
    "    print(\"Significant Change Detected!\")\n",
    "else:\n",
    "    print(\"No Significant Change.\")"
   ]
  },
  {
   "cell_type": "markdown",
   "metadata": {},
   "source": []
  }
 ],
 "metadata": {
  "kernelspec": {
   "display_name": "Python 3",
   "language": "python",
   "name": "python3"
  },
  "language_info": {
   "codemirror_mode": {
    "name": "ipython",
    "version": 3
   },
   "file_extension": ".py",
   "mimetype": "text/x-python",
   "name": "python",
   "nbconvert_exporter": "python",
   "pygments_lexer": "ipython3",
   "version": "3.11.0"
  }
 },
 "nbformat": 4,
 "nbformat_minor": 2
}
